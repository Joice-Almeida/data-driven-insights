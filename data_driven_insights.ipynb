{
  "nbformat": 4,
  "nbformat_minor": 0,
  "metadata": {
    "colab": {
      "private_outputs": true,
      "provenance": []
    },
    "kernelspec": {
      "name": "python3",
      "display_name": "Python 3"
    },
    "language_info": {
      "name": "python"
    }
  },
  "cells": [
    {
      "cell_type": "code",
      "execution_count": null,
      "metadata": {
        "id": "5_dVLfcfVIDL"
      },
      "outputs": [],
      "source": [
        "from google.colab import files # Importando o arquivo sales_data_sample\n",
        "\n",
        "arquivo = files.upload() # carregando o arquivo\n",
        "\n",
        "# dowload do arquivo\n",
        "#files.dowload(\"dados_vendas.csv\")"
      ]
    },
    {
      "cell_type": "markdown",
      "source": [],
      "metadata": {
        "id": "WHSZsZjrOi98"
      }
    },
    {
      "cell_type": "markdown",
      "source": [
        "## Dados de amostra de vendas\n",
        "\n",
        ">Esse dataset é sobre as vendas de uma empresa usado para estudo de caso para análise de dados com o intuito para aprimorar o aprendizado utizando as bibliotecas: pandas,numpy e matplotlib em conjunto com alguns recursos nativos do pyhton."
      ],
      "metadata": {
        "id": "FLMk_3rHa2H0"
      }
    },
    {
      "cell_type": "code",
      "source": [
        "import pandas as pd # chamando a biblioteca pandas\n",
        "import numpy as np # chamando a biblioteca numpy\n",
        "import matplotlib.pyplot as plt # chamando a  biblioteca\n",
        "\n",
        "dfvendas = pd.read_csv('dados_vendas.csv') # lendo o arquivo csv\n",
        "\n",
        "print(dfvendas.head(5)) # imprimindo 5 linhas do dataset\n",
        "print(f\" Linhas e Colunas: {dfvendas.shape} \\n\\n\") # verificando a quantidade de linhas e colunas\n",
        "print(f\" Dimensões: {dfvendas.ndim} \\n\\n\") # verificando a quantidade de dimensões no dataset\n",
        "print(f\"Tipos de dados:\\n {dfvendas.dtypes} \\n\\n\") # verificando os tipos de dados correspondentes as colunas do dataset\n",
        "print(f\"Descrição geral: {dfvendas.describe()}\") # uma descrição simples do dataset"
      ],
      "metadata": {
        "id": "h42m75fmcpkJ"
      },
      "execution_count": null,
      "outputs": []
    },
    {
      "cell_type": "markdown",
      "source": [
        "# Observações\n",
        "\n",
        "> Criei uma variavel chamada vendas e chamei a biblioteca pandas e usei a função\n",
        "`.read_csv( )` e entre passei o arquivo csv chamado dados-vendas para ser lido o dataset de amostra de vendas ,ao chamar a função `.head()`, foi mostrado as 5 primeiras linhas e as 25 colunas e alguns dados contidos no dataset, verifiquei com a função .shape o total de linhas e colunas, que retornou 25 linhas e 2823 colunas.\n",
        "> Para ver quantas dimensões esse dataset possui usei a função .ndim que retornou duas dimensões, para saber os tipos de dados presença chamei a função .dtypes que retornou uma lista com os nomes das colunas e o tipo de dado correspondente que em quantidade são 7 int, 16 `objet(string)` e 2 float somando da 25.\n",
        ">Com a função `.describe( )` obtive uma descrição geral sobre a distribuição dos dados, mostrando valor minimo e máximo, a média, desvio padrão, e a porcentagem.   "
      ],
      "metadata": {
        "id": "79i80Jfa2JEX"
      }
    },
    {
      "cell_type": "code",
      "source": [
        "\n",
        "\n",
        "\n",
        "dfpedidos = pd.read_csv(\"dados_vendas.csv\")\n",
        "print(dfpedidos.head(),\"\\n\\n\") # mostrando 5 linhas do dataset\n",
        "\n",
        "print(\"Lista com o nome  de paises que fizeram pedidos:\")\n",
        "print(dfpedidos[\"PAÍS\"].tolist(),\"\\n\\n\")    # criando uma lista a partir da coluna 'PAíS\n",
        "print(dfpedidos[\"PAÍS\"].value_counts(),\"\\n\\n\") # contando quantas vezes os nomes aparecem na coluna\n",
        "\n",
        "\n",
        "categoria = dict(zip(dfpedidos[\"CIDADE\"][:3],dfpedidos[\"ESTADO\"])) # criando um dicionario com as colunas 'CIDADE' E 'ESTADO'\n",
        "\n",
        "print(f\"Cidade e Estado: {list(categoria.items())} \\n\\n\") # imprimindo o dicionario\n",
        "\n",
        "linha = dfpedidos.iloc[0] # vai ser usado para localizar a linha e a coluna\n",
        "print(linha,\"\\n\\n\")\n",
        "\n",
        "informacao =[ (linha['CODIGO DO PRODUTO'], linha['LINHA DE PRODUTOS'], linha['QUANTIDADE PEDIDA']) for _,linha in dfpedidos.iterrows()] # tupla criada com os valores das linhas de determinadas colunas\n",
        "print(\"Informações de algumas linhas \",informacao[:3],\"\\n\\n\") # imprimindo a tupla\n",
        "print(dfpedidos[\"LINHA DE PRODUTOS\"].value_counts()) # contando quantas vezes determinados produtos aparecem"
      ],
      "metadata": {
        "id": "btB_NoJ4D5oM"
      },
      "execution_count": null,
      "outputs": []
    },
    {
      "cell_type": "markdown",
      "source": [
        "## Observações\n",
        "\n",
        "> Criei uma lista a partir de uma coluna chamada **'LINHA DE PRODUTOS'** do dataset e usei a função .value_count para contar quantas vezes os nomes de certos paises aparecem na lista , essa coluna possui os nomes dos paises que fizeram pedidos e os nomes que mais aparecem  no top 3 são: USA,Espanha e França.\n",
        "> Um dicionario a partir das colunas **' CIDADE '** e **' ESTADO '**, mostrando o nome da cidade e do estado e aparecem valores **NaN(nulos)**.\n",
        "> Foi utilizado uma tupla com base no dataframe usando a função ``.iloc()``para localizar por indice a linha e coluna, as colunas usadas na tupla foi: **' CODIGO DE PRODUTO '**,**' LINHA DE PRODUTOS '**,**' QUANTIDADE PEDIDA '**. Que retornou o código de um determinado produto, o nome do produto e quantidade pedida."
      ],
      "metadata": {
        "id": "T85iKvTenERQ"
      }
    },
    {
      "cell_type": "code",
      "source": [
        "\n",
        "\n",
        "dfdados = pd.read_csv(\"dados_vendas.csv\")\n",
        "print(dfdados.head()) # imprimindo algumas linhas do dataset\n",
        "\n",
        "# Ordenando os valores da coluna para saber quais sãos valores menores e maiores\n",
        "print(dfdados[\"QUANTIDADE PEDIDA\"].sort_values(),\"\\n\\n\")\n",
        "\n",
        "# armazenando a coluna para criar condições\n",
        "quantidade = dfvendas[\"QUANTIDADE PEDIDA\"][0]\n",
        "\n",
        "# verificando  a quantidade de produtos\n",
        "if quantidade >= 50:\n",
        "\n",
        "  print(\"A quantidade pedida é de muitos produtos \\n\\n\")\n",
        "\n",
        "elif quantidade >= 10 and quantidade <= 49:\n",
        "\n",
        "  print(\"A quantidade pedida de produtos é intermediaria \\n\\n\")\n",
        "\n",
        "else:\n",
        "\n",
        "    print(\"A quantidade pedida é baixa \\n\\n\")\n",
        "\n",
        "\n",
        "print(dfdados.head())\n",
        "# somando\n",
        "soma = sum([cont for cont in dfdados[\"QUANTIDADE PEDIDA\"][:5]])\n",
        "print(f\"Soma dos valores da quantidade pedida:{soma}  \\n\\n\")\n",
        "\n",
        "quantLista = list(dfdados['QUANTIDADE PEDIDA'][:5])\n",
        "valorLimite = 30\n",
        "cont = 0\n",
        "\n",
        "# verificando qual é o número maior que 30\n",
        "while cont < len(quantLista) and quantLista[cont] <= valorLimite:\n",
        "\n",
        "  cont += 1\n",
        "\n",
        "  if cont < len(quantLista):\n",
        "\n",
        "    print(f\"Na {quantLista[cont]} foi encontrado o 1° valor maior que {valorLimite}\")\n",
        "\n",
        "  else:\n",
        "\n",
        "    print(f\" Não foi encontrado nenhum valor maior no {valorLimite}\")\n",
        "\n"
      ],
      "metadata": {
        "id": "4tHISlnR2lex"
      },
      "execution_count": null,
      "outputs": []
    },
    {
      "cell_type": "markdown",
      "source": [
        "## Observações\n",
        "\n",
        "> Utilizando estruturas condicionais e de repetição, foi mostrado que a quantidade pedida de produtos é intermédiaria e o valor de quantidade somado deu 199, e em um intervalo até 30 o maior valor foi 34."
      ],
      "metadata": {
        "id": "qc6QzmKatjU3"
      }
    },
    {
      "cell_type": "code",
      "source": [
        "\n",
        "\n",
        "dfdados = pd.read_csv('dados_vendas.csv') # lendo o arquivo\n",
        "print(dfdados.head()) # exibindo algumas linhas do arquivo\n",
        "\n",
        "dfdados.columns = dfdados.columns.str.strip() # tirando os espaçamento das colunas\n",
        "print(dfdados.columns.tolist(),\"\\n\\n\") # verificando\n",
        "\n",
        "dfdados[\"TOTAL DE VENDAS\"] = dfdados['VENDAS'] * dfdados['PREÇO UNITARIO'] # calculando o total de vendas e criando uma nova coluna\n",
        "\n",
        "dfdados[\"DESCONTO\"] = dfdados[\"TOTAL DE VENDAS\"] * 10 # calculando o desconto e criando uma nova coluna\n",
        "\n",
        "print(dfdados[[\"VENDAS\",\"PREÇO UNITARIO\",\"TOTAL DE VENDAS\",\"DESCONTO\"]].head()) # exibindo as colunas"
      ],
      "metadata": {
        "id": "IcBRmkSCwC5u"
      },
      "execution_count": null,
      "outputs": []
    },
    {
      "cell_type": "markdown",
      "source": [
        "##Observações\n",
        "\n",
        ">Foi calculado o total de vendas, e com as colunas **' VENDAS '** e **'PREÇO UNITARIO '** e uma nova coluna foi adicionada, e também foi calculado o desconto de 10% utilizando a coluna **' TOTAL DE VENDAS '** e uma nova coluna chamada **' DESCONTO '** foi criada. A finalidade da criação dessas colunas são mostrar o desconto de 10% aplicado em cada venda e mostrar o total de vendas."
      ],
      "metadata": {
        "id": "ww7xd5VdVX6u"
      }
    },
    {
      "cell_type": "markdown",
      "source": [],
      "metadata": {
        "id": "WouPzgVgRFYN"
      }
    },
    {
      "cell_type": "code",
      "source": [
        "dfdados = pd.read_csv(\"dados_vendas.csv\") # lendo o arquivo\n",
        "print(dfdados.head()) # mostrando o dataset\n",
        "\n",
        "print(dfdados.columns.tolist(),\"\\n\\n\") # listando as colunas do dataset\n",
        "print(dfdados.dtypes,\"\\n\\n\") # verificando as colunas com os tipos numéricos\n",
        "print(dfdados.columns.str.strip(),\"\\n\\n\") # retirando possiveis espaçamentos\n",
        "\n",
        "array = np.array(dfdados[\"NUMERO DO PEDIDO\"]) # criando um array a partir de uma coluna do dataset\n",
        "print(f\"Número de pedidos: {array[:5]} \\n\\n\") # imprimindo o array\n",
        "\n",
        "# calcula o dobro de pedidos e mostra a impressão do array com o dobro do valor\n",
        "dobroPedido = array * 2\n",
        "print(f\"Dobro de pedidos: {dobroPedido[:5]} \\n\")\n",
        "\n",
        "# acrescenta mais 10 pedidos ao array e imprime o array com o acréscimo de valor\n",
        "acrestarPedido = array + 10\n",
        "print(f\"Acrescentando 10 pedidos: {acrestarPedido[:5]} \\n\")\n",
        "\n",
        "# calcula a média de produtos e imprime o resultado\n",
        "mediaPedido = np.mean(dfdados['NUMERO DO PEDIDO'].round(2))\n",
        "print(f\"Média de pedidos: {mediaPedido}\\n \")\n",
        "\n",
        "# pega o valor máximo de pedido e imprime o resultado\n",
        "maiorPedido = np.max(dfdados['NUMERO DO PEDIDO'])\n",
        "print(f\"Maior pedido: {maiorPedido}\")"
      ],
      "metadata": {
        "id": "rTuL5RqPflpG"
      },
      "execution_count": null,
      "outputs": []
    },
    {
      "cell_type": "markdown",
      "source": [
        "## Observações\n",
        "\n",
        ">Foi criado um array a partir da coluna **' NUMERO DE PEDIDOS '**, e através de cálculo para saber o dobro de número de pedidos e para acréscentar mais 10 números de pedidos, além de calcular a média e o maior valor de número de pedido."
      ],
      "metadata": {
        "id": "626QtitTAKjO"
      }
    },
    {
      "cell_type": "code",
      "source": [
        "dfdados = pd.read_csv(\"dados_vendas.csv\") # lendo o arquivo\n",
        "print(dfdados.head(),\"\\n\\n\") # imprimindo o dataset\n",
        "\n",
        "print(dfdados.columns,\"\\n\\n\") # imprimindo as colunas\n",
        "\n",
        "print(dfdados[\"DATA DO PEDIDO\"].head(),\"\\n\\n\") # exibindo a coluna\n",
        "\n",
        "data = dfdados.loc[3,'DATA DO PEDIDO'] # localiza linha e coluna e imprime a data\n",
        "print(f\"Data: {data} \\n\\n\")\n",
        "\n",
        "produto= dfdados.groupby('LINHA DE PRODUTOS')['PREÇO UNITARIO'].max() # agrupa as colunas e faz um cálculo dos maiores valores dos produtos e imprime o resultado\n",
        "print(f\"Vendas: {produto}\")"
      ],
      "metadata": {
        "id": "T3PVlmt9Bzr_"
      },
      "execution_count": null,
      "outputs": []
    },
    {
      "cell_type": "markdown",
      "source": [
        "## Observações\n",
        "\n",
        "> Usei a função .loc( ) para localizar uma data especifica na coluna 'DATA DO PEDIDO', depois usei a função .groupby usando as colunas 'LINHA DE PRODUTOS' E 'PREÇO UNITARIO'  junto com a função .max() ,para visualizar os produtos com os valores maiores. Segue abaixo o trecho desse código:\n",
        "\n",
        "\n",
        "```\n",
        "dfdados = pd.read_csv(\"dados_vendas.csv\") # lendo o arquivo\n",
        "print(dfdados.head(),\"\\n\\n\") # imprimindo o dataset\n",
        "\n",
        "print(dfdados.columns,\"\\n\\n\") # imprimindo as colunas\n",
        "\n",
        "print(dfdados[\"DATA DO PEDIDO\"].head(),\"\\n\\n\") # exibindo a coluna\n",
        "\n",
        "data = dfdados.loc[3,'DATA DO PEDIDO'] # localiza linha e coluna e imprime a data\n",
        "print(f\"Data: {data} \\n\\n\")\n",
        "\n",
        "produto= dfdados.groupby('LINHA DE PRODUTOS')['PREÇO UNITARIO'].max() # agrupa as colunas e faz um cálculo dos maiores valores dos produtos e imprime o resultado\n",
        "print(f\"Vendas: {produto}\")\n",
        "```\n",
        "\n",
        "\n",
        "\n"
      ],
      "metadata": {
        "id": "X9B53SXYYxEr"
      }
    },
    {
      "cell_type": "code",
      "source": [
        "dfdados = pd.read_csv(\"dados_vendas.csv\")\n",
        "print(dfdados.head(),\"\\n\\n\")\n",
        "\n",
        "print(dfdados['MES_ID'].head())\n",
        "\n",
        "# Corrigir nomes das colunas removendo espaços\n",
        "dfdados.columns = dfdados.columns.str.strip()\n",
        "\n",
        "# Verifica se as colunas existem corretamente\n",
        "if 'MES_ID' in dfdados.columns and 'NUMERO DO PEDIDO' in dfdados.columns:\n",
        "    # Agrupar por mês e contar os pedidos\n",
        "    pedidos_por_mes = dfdados.groupby('MES_ID')['NUMERO DO PEDIDO'].count()\n",
        "\n",
        "    # Plotar gráfico de linha\n",
        "    pedidos_por_mes.plot(kind='line', marker='o')\n",
        "    plt.title('Evolução do Número de Pedidos por Mês')\n",
        "    plt.xlabel('Mês')\n",
        "    plt.ylabel('Número de Pedidos')\n",
        "    plt.grid(True)\n",
        "    plt.xticks(pedidos_por_mes.index)\n",
        "    plt.tight_layout()\n",
        "    plt.show()\n",
        "else:\n",
        "    print(\"Colunas 'MES_ID' e/ou 'NUMERO DO PEDIDO' não foram encontradas.\")\n",
        "\n",
        "\n",
        " # Gráfico de Barras (categorias)\n",
        "if 'CIDADE' in dfdados.columns and 'NUMERO DO PEDIDO' in dfdados.columns:\n",
        "    # Contar número de pedidos por cidade\n",
        "    pedidos_por_cidade = dfdados.groupby('CIDADE')['NUMERO DO PEDIDO'].count()\n",
        "\n",
        "    # Pegar top 10 cidades por número de pedidos\n",
        "    top10 = pedidos_por_cidade.sort_values(ascending=False).head(10)\n",
        "\n",
        "    # Criar gráfico de barras com espaçamento (barras mais finas)\n",
        "    ax = top10.plot(kind='bar', width=0.6)  # width < 1 deixa espaço entre as barras\n",
        "\n",
        "    plt.title('Top 10 cidades por número de pedidos')\n",
        "    plt.xlabel('Cidade')\n",
        "    plt.ylabel('Número de pedidos')\n",
        "    plt.xticks(rotation=45)  # gira os nomes das cidades para melhor visualização\n",
        "\n",
        "    plt.tight_layout()  # para ajustar espaçamento do gráfico\n",
        "\n",
        "    plt.show()\n",
        "\n",
        "    # Gráfico de Dispersão (duas numéricas)\n",
        "if 'QUANTIDADE PEDIDA' in dfdados.columns and 'PREÇO UNITARIO' in dfdados.columns:\n",
        "    plt.scatter(dfdados['QUANTIDADE PEDIDA'], dfdados['PREÇO UNITARIO'])\n",
        "    plt.title('Dispersão')\n",
        "    plt.xlabel('QUANTIDADE PEDIDA')\n",
        "    plt.ylabel('PREÇO UNITARIO')\n",
        "    plt.show()"
      ],
      "metadata": {
        "id": "D6HJmQ3EeEEd"
      },
      "execution_count": null,
      "outputs": []
    },
    {
      "cell_type": "markdown",
      "source": [
        "## Observações\n",
        "\n",
        "> Foram criados 3 gráficos: Gráfico de barra com as colunas comparando número de pedidos por cidade, Gráfico de linhas mostrando a evolução de números de pedidos por mês, Gráfico de dispersão para relacionar a quantidade pedida e preço unitário.\n"
      ],
      "metadata": {
        "id": "9-GAkA8X3JFQ"
      }
    },
    {
      "cell_type": "markdown",
      "source": [],
      "metadata": {
        "id": "5QQ0_mjsJEnw"
      }
    },
    {
      "cell_type": "markdown",
      "source": [
        "# Relatório resumido\n",
        "\n",
        "> Neste mini projeto foi utilizado o dataset de amostra de vendas **' dados_vendas.csv '**, para fazer uma pequena analize exploratórios contido nela, além dos recursos nátivos do python as  bibliotecas pandas,numpy,matplotlib. Essa base de amostra de vendas possui 2823 linhas e 25 colunas, com duas dimensões, percebi uma relação entre as colunas **'LINHA DE PRODUTOS '** e  **' PREÇO UNITARIO '**, 'VENDAS' e 'QUANTIDADE PEDIDA' entre outras colunas que traz detalhes importantes sobre as vendas.\n",
        "\n"
      ],
      "metadata": {
        "id": "hiyt_9AF4bxN"
      }
    }
  ]
}